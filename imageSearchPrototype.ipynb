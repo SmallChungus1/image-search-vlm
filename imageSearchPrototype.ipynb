{
  "nbformat": 4,
  "nbformat_minor": 0,
  "metadata": {
    "colab": {
      "provenance": [],
      "gpuType": "T4",
      "authorship_tag": "ABX9TyNqSi81qt/AleFSHIPq+uxF"
    },
    "kernelspec": {
      "name": "python3",
      "display_name": "Python 3"
    },
    "language_info": {
      "name": "python"
    },
    "accelerator": "GPU"
  },
  "cells": [
    {
      "cell_type": "code",
      "execution_count": 4,
      "metadata": {
        "colab": {
          "base_uri": "https://localhost:8080/",
          "height": 836
        },
        "id": "KopMtLRIyr92",
        "outputId": "3e2c998e-9e58-479c-b02c-d7453e4f973e"
      },
      "outputs": [
        {
          "output_type": "stream",
          "name": "stdout",
          "text": [
            "Reading package lists... Done\n",
            "Building dependency tree... Done\n",
            "Reading state information... Done\n",
            "libomp-dev is already the newest version (1:14.0-55~exp2).\n",
            "0 upgraded, 0 newly installed, 0 to remove and 34 not upgraded.\n",
            "Requirement already satisfied: faiss-gpu-cu12 in /usr/local/lib/python3.11/dist-packages (1.11.0)\n",
            "Requirement already satisfied: numpy<2 in /usr/local/lib/python3.11/dist-packages (from faiss-gpu-cu12) (1.26.4)\n",
            "Requirement already satisfied: packaging in /usr/local/lib/python3.11/dist-packages (from faiss-gpu-cu12) (24.2)\n",
            "Requirement already satisfied: nvidia-cuda-runtime-cu12>=12.1.105 in /usr/local/lib/python3.11/dist-packages (from faiss-gpu-cu12) (12.5.82)\n",
            "Requirement already satisfied: nvidia-cublas-cu12>=12.1.3.1 in /usr/local/lib/python3.11/dist-packages (from faiss-gpu-cu12) (12.5.3.2)\n",
            "Found existing installation: transformers 4.51.3\n",
            "Uninstalling transformers-4.51.3:\n",
            "  Would remove:\n",
            "    /usr/local/bin/transformers-cli\n",
            "    /usr/local/lib/python3.11/dist-packages/transformers-4.51.3.dist-info/*\n",
            "    /usr/local/lib/python3.11/dist-packages/transformers/*\n",
            "Proceed (Y/n)? y\n",
            "  Successfully uninstalled transformers-4.51.3\n",
            "Collecting transformers\n",
            "  Using cached transformers-4.51.3-py3-none-any.whl.metadata (38 kB)\n",
            "Requirement already satisfied: filelock in /usr/local/lib/python3.11/dist-packages (from transformers) (3.18.0)\n",
            "Requirement already satisfied: huggingface-hub<1.0,>=0.30.0 in /usr/local/lib/python3.11/dist-packages (from transformers) (0.30.2)\n",
            "Requirement already satisfied: numpy>=1.17 in /usr/local/lib/python3.11/dist-packages (from transformers) (1.26.4)\n",
            "Requirement already satisfied: packaging>=20.0 in /usr/local/lib/python3.11/dist-packages (from transformers) (24.2)\n",
            "Requirement already satisfied: pyyaml>=5.1 in /usr/local/lib/python3.11/dist-packages (from transformers) (6.0.2)\n",
            "Requirement already satisfied: regex!=2019.12.17 in /usr/local/lib/python3.11/dist-packages (from transformers) (2024.11.6)\n",
            "Requirement already satisfied: requests in /usr/local/lib/python3.11/dist-packages (from transformers) (2.32.3)\n",
            "Requirement already satisfied: tokenizers<0.22,>=0.21 in /usr/local/lib/python3.11/dist-packages (from transformers) (0.21.1)\n",
            "Requirement already satisfied: safetensors>=0.4.3 in /usr/local/lib/python3.11/dist-packages (from transformers) (0.5.3)\n",
            "Requirement already satisfied: tqdm>=4.27 in /usr/local/lib/python3.11/dist-packages (from transformers) (4.67.1)\n",
            "Requirement already satisfied: fsspec>=2023.5.0 in /usr/local/lib/python3.11/dist-packages (from huggingface-hub<1.0,>=0.30.0->transformers) (2025.3.2)\n",
            "Requirement already satisfied: typing-extensions>=3.7.4.3 in /usr/local/lib/python3.11/dist-packages (from huggingface-hub<1.0,>=0.30.0->transformers) (4.13.2)\n",
            "Requirement already satisfied: charset-normalizer<4,>=2 in /usr/local/lib/python3.11/dist-packages (from requests->transformers) (3.4.1)\n",
            "Requirement already satisfied: idna<4,>=2.5 in /usr/local/lib/python3.11/dist-packages (from requests->transformers) (3.10)\n",
            "Requirement already satisfied: urllib3<3,>=1.21.1 in /usr/local/lib/python3.11/dist-packages (from requests->transformers) (2.4.0)\n",
            "Requirement already satisfied: certifi>=2017.4.17 in /usr/local/lib/python3.11/dist-packages (from requests->transformers) (2025.1.31)\n",
            "Using cached transformers-4.51.3-py3-none-any.whl (10.4 MB)\n",
            "Installing collected packages: transformers\n",
            "Successfully installed transformers-4.51.3\n"
          ]
        },
        {
          "output_type": "display_data",
          "data": {
            "application/vnd.colab-display-data+json": {
              "pip_warning": {
                "packages": [
                  "transformers"
                ]
              },
              "id": "fd7015f846d44c578914cb4d91072699"
            }
          },
          "metadata": {}
        }
      ],
      "source": [
        "#faiss install on colab issue: https://discuss.huggingface.co/t/cannot-install-faiss-in-google-collab/39451/3 | https://stackoverflow.com/questions/58957169/faiss-error-could-not-find-a-version-that-satisfies-the-requirement-faiss-from\n",
        "!sudo apt-get install libomp-dev\n",
        "!pip install faiss-gpu-cu12\n",
        "#do this in Collab since transformers lib have mismatch numpy lib with faiss-gpu\n",
        "!pip uninstall transformers\n",
        "!pip install transformers"
      ]
    },
    {
      "cell_type": "code",
      "source": [
        "import torch\n",
        "from transformers import pipeline, CLIPProcessor, CLIPModel\n",
        "import faiss\n",
        "from PIL import Image\n",
        "import os\n",
        "#google drive auth\n",
        "from google.colab import drive\n",
        "drive.mount('/content/drive')"
      ],
      "metadata": {
        "colab": {
          "base_uri": "https://localhost:8080/"
        },
        "id": "S6-BcbSm-tbY",
        "outputId": "767bf51c-ad1c-4d2c-8b2b-b04a54df7724"
      },
      "execution_count": 1,
      "outputs": [
        {
          "output_type": "stream",
          "name": "stdout",
          "text": [
            "Mounted at /content/drive\n"
          ]
        }
      ]
    },
    {
      "cell_type": "code",
      "source": [
        "device = 'cuda' if torch.cuda.is_available() else 'cpu'\n",
        "print(f\"device: {device}\")"
      ],
      "metadata": {
        "colab": {
          "base_uri": "https://localhost:8080/"
        },
        "id": "Wuasb77U-2nZ",
        "outputId": "19972ff5-7175-431b-8d05-f78f19670bbf"
      },
      "execution_count": 2,
      "outputs": [
        {
          "output_type": "stream",
          "name": "stdout",
          "text": [
            "device: cuda\n"
          ]
        }
      ]
    },
    {
      "cell_type": "code",
      "source": [
        "class clip_image_search():\n",
        "  def __init__(self):\n",
        "    #clip model init\n",
        "    self.clip_model = CLIPModel.from_pretrained(\"openai/clip-vit-base-patch32\").to(device)\n",
        "    self.clip_processor = CLIPProcessor.from_pretrained(\"openai/clip-vit-base-patch32\")\n",
        "    self.clip_model.eval()\n",
        "\n",
        "    #faiss for indexing img embeddings\n",
        "    self.faiss_index = None\n",
        "\n",
        "  def init_and_index_faiss(self, embedding_dimension, embeddings, img_paths, search_metric='l2'):\n",
        "    #L2 or cosine similarity search metric\n",
        "    if search_metric == 'l2':\n",
        "      self.faiss_index = faiss.IndexFlatL2(embedding_dimension)\n",
        "    elif search_metric == 'ip':\n",
        "      self.faiss_index = faiss.IndexFlatIP(embedding_dimension)\n",
        "\n",
        "\n",
        "    #attach ids to faiss index\n",
        "    img_ids = [i for i in range(len(img_paths))]\n",
        "    #wrap with IndexIDMap to associate vectors with ids:\n",
        "    #https://medium.com/data-science/building-an-image-similarity-search-engine-with-faiss-and-clip-2211126d08fa\n",
        "    self.faiss_index_wIds = faiss.IndexIDMap(self.faiss_index)\n",
        "    #add vectors to index\n",
        "    self.faiss_index_wIds.add_with_ids(embeddings, img_ids)\n",
        "\n",
        "    return self.faiss_index_wIds\n",
        "\n",
        "  def encode_imgs(self, img_folder):\n",
        "    embedded_imgs_list = []\n",
        "    img_paths = [os.path.join(img_folder, img_path) for img_path in os.listdir(img_folder)]\n",
        "    imgs = [Image.open(img_path).convert('RGB') for img_path in img_paths]\n",
        "    with torch.no_grad():\n",
        "      processed_imgs = self.clip_processor(text=None, images=imgs, return_tensors=\"pt\", padding=True, use_fast=True)\n",
        "      img_embeddings = self.clip_model.get_image_features(**processed_imgs.to(device))\n",
        "\n",
        "      #faiss needs embeedings in f32\n",
        "      img_embeddings = img_embeddings.cpu().numpy().astype('float32')\n",
        "      embedding_dimenstion = img_embeddings.shape[1]\n",
        "\n",
        "      #init faiss index\n",
        "      self.init_and_index_faiss(embedding_dimenstion, img_embeddings, img_paths, search_metric=\"l2\")\n",
        "\n",
        "      for an_img_path, an_img_embedding in zip(img_paths, img_embeddings):\n",
        "        embedded_imgs_list.append([an_img_path, an_img_embedding])\n",
        "    return embedded_imgs_list\n",
        "\n",
        "  def encode_text_prompt(self, text):\n",
        "    with torch.no_grad():\n",
        "      text_inputs = self.clip_processor(text=text, return_tensors=\"pt\", padding=True)\n",
        "      text_embeddings = self.clip_model.get_text_features(**text_inputs.to(device))\n",
        "\n",
        "    return text_embeddings.cpu().numpy().astype('float32')\n",
        "\n",
        "  def index_imgs(self, embedded_imgs_list):\n",
        "    pass\n",
        "\n",
        "  def search_imgs(self, text_query):\n",
        "    text_query_embedding = self.encode_text_prompt(text_query)\n",
        "    distance, indices = self.faiss_index_wIds.search(text_query_embedding, 5)\n",
        "    return distance, indices"
      ],
      "metadata": {
        "id": "4Xp5ltegDlXk"
      },
      "execution_count": 16,
      "outputs": []
    },
    {
      "cell_type": "code",
      "source": [
        "clip_img_search_obj = clip_image_search()\n",
        "img_folder = '/content/drive/MyDrive/image-search-project/image-search-data'\n",
        "clip_img_search_obj.encode_imgs(img_folder)\n",
        "clip_img_search_obj.search_imgs('blue car')"
      ],
      "metadata": {
        "colab": {
          "base_uri": "https://localhost:8080/"
        },
        "id": "KXSTR957JWzT",
        "outputId": "2fbb4ef6-f6f4-4202-b330-9ab0728c5fb6"
      },
      "execution_count": 18,
      "outputs": [
        {
          "output_type": "execute_result",
          "data": {
            "text/plain": [
              "(array([[122.409256, 127.321655, 128.30217 , 131.5888  , 132.0424  ]],\n",
              "       dtype=float32),\n",
              " array([[4, 1, 9, 0, 3]]))"
            ]
          },
          "metadata": {},
          "execution_count": 18
        }
      ]
    }
  ]
}